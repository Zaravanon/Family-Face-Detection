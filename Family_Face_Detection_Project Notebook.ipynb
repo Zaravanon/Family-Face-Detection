{
 "cells": [
  {
   "cell_type": "code",
   "execution_count": null,
   "metadata": {},
   "outputs": [],
   "source": [
    "import cv2\n",
    "import numpy as np\n",
    "import face_recognition\n",
    "import os"
   ]
  },
  {
   "cell_type": "code",
   "execution_count": null,
   "metadata": {},
   "outputs": [],
   "source": [
    "path = r'C:\\Users\\Saravanan\\Documents\\Deep Learning\\Computer Vision\\Family Face Detection\\Family Photos'\n",
    "mylist = os.listdir(r'C:\\Users\\Saravanan\\Documents\\Deep Learning\\Computer Vision\\Family Face Detection\\Family Photos')\n",
    "images = []\n",
    "classes = []\n",
    "\n",
    "for curimg in mylist:\n",
    "    image_array = cv2.imread(f'{path}/{curimg}')\n",
    "    images.append(image_array)\n",
    "    classes.append(curimg.split('.')[0])\n",
    "    \n",
    "print(classes)"
   ]
  },
  {
   "cell_type": "code",
   "execution_count": null,
   "metadata": {},
   "outputs": [],
   "source": [
    "def encod(images):\n",
    "    encoded_images = []\n",
    "    for img in images:\n",
    "        covt_img = cv2.cvtColor(img,cv2.COLOR_BGR2RGB)\n",
    "        encoded_version = face_recognition.face_encodings(covt_img)[0]\n",
    "        encoded_images.append(encoded_version)\n",
    "    return encoded_images\n",
    "\n",
    "encodedimg = encod(images)\n",
    "print(f'Encoding completed for {len(encodedimg)} images. \\nImages are taken from this directory: {path}')"
   ]
  },
  {
   "cell_type": "code",
   "execution_count": null,
   "metadata": {},
   "outputs": [],
   "source": [
    "capture = cv2.VideoCapture(0)\n",
    "if (capture.isOpened()== True):\n",
    "    print(\"Your camera is working\")\n",
    "else:\n",
    "    print(\"Your camera is not working\")  \n",
    "\n",
    "while True:\n",
    "    ret,frame = capture.read() \n",
    "    resized_img = cv2.resize(frame,(0,0),fx=0.25,fy=0.25)\n",
    "    final_img = cv2.cvtColor(resized_img,cv2.COLOR_BGR2RGB)\n",
    "    framecurface = face_recognition.face_locations(final_img)\n",
    "    encodecurface = face_recognition.face_encodings(final_img,framecurface)\n",
    "    \n",
    "    for encodeface,faceloc in zip(encodecurface,framecurface):\n",
    "        matches = face_recognition.compare_faces(encodedimg,encodeface)\n",
    "        facedist = face_recognition.face_distance(encodedimg,encodeface)  \n",
    "        matchindex = np.argmin(facedist)\n",
    "        \n",
    "        if matches[matchindex]:\n",
    "            name = classes[matchindex].upper()\n",
    "            print(name)\n",
    "            print(faceloc)\n",
    "            y1,x2,y2,x1 = faceloc\n",
    "            y1,x2,y2,x1 = y1*4,x2*4,y2*4,x1*4\n",
    "            cv2.rectangle(frame,(x1,y1),(x2,y2),(0,0,255),2)\n",
    "            cv2.rectangle(frame, (x1, y2), (x2, y2), (0, 255, 0), cv2.FILLED)\n",
    "            cv2.putText(frame,name,(x1+6,y2-6),cv2.FONT_HERSHEY_DUPLEX, 1.0, (0,255,0), 1)\n",
    "            cv2.imshow('name',frame)\n",
    "            cv2.waitKey(0)              "
   ]
  }
 ],
 "metadata": {
  "kernelspec": {
   "display_name": "Python 3",
   "language": "python",
   "name": "python3"
  },
  "language_info": {
   "codemirror_mode": {
    "name": "ipython",
    "version": 3
   },
   "file_extension": ".py",
   "mimetype": "text/x-python",
   "name": "python",
   "nbconvert_exporter": "python",
   "pygments_lexer": "ipython3",
   "version": "3.8.4"
  }
 },
 "nbformat": 4,
 "nbformat_minor": 4
}
