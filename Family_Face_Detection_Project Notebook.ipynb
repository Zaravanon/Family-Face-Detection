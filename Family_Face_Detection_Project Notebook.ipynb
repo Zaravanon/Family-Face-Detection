{
 "cells": [
  {
   "cell_type": "code",
   "execution_count": 2,
   "metadata": {},
   "outputs": [],
   "source": [
    "import cv2\n",
    "import numpy as np\n",
    "import face_recognition\n",
    "import os"
   ]
  },
  {
   "cell_type": "code",
   "execution_count": 3,
   "metadata": {},
   "outputs": [
    {
     "name": "stdout",
     "output_type": "stream",
     "text": [
      "['Akshitha', 'Arun Mozhi', 'Arun', 'Prabakaran', 'Saravanan', 'Shivani', 'Sumithra', 'Yenu Prajaya']\n"
     ]
    }
   ],
   "source": [
    "path = r'C:\\Users\\Saravanan\\Documents\\Deep Learning\\Computer Vision\\Family Face Detection\\Family Photos'\n",
    "mylist = os.listdir(r'C:\\Users\\Saravanan\\Documents\\Deep Learning\\Computer Vision\\Family Face Detection\\Family Photos')\n",
    "images = []\n",
    "classes = []\n",
    "\n",
    "for curimg in mylist:\n",
    "    image_array = cv2.imread(f'{path}/{curimg}')\n",
    "    images.append(image_array)\n",
    "    classes.append(curimg.split('.')[0])\n",
    "    \n",
    "print(classes)"
   ]
  },
  {
   "cell_type": "code",
   "execution_count": 4,
   "metadata": {},
   "outputs": [
    {
     "name": "stdout",
     "output_type": "stream",
     "text": [
      "Encoding completed for 8 images. \n",
      "Images are taken from this directory: C:\\Users\\Saravanan\\Documents\\Deep Learning\\Computer Vision\\Family Face Detection\\Family Photos\n"
     ]
    }
   ],
   "source": [
    "def encod(images):\n",
    "    encoded_images = []\n",
    "    for img in images:\n",
    "        covt_img = cv2.cvtColor(img,cv2.COLOR_BGR2RGB)\n",
    "        encoded_version = face_recognition.face_encodings(covt_img)[0]\n",
    "        encoded_images.append(encoded_version)\n",
    "    return encoded_images\n",
    "\n",
    "encodedimg = encod(images)\n",
    "print(f'Encoding completed for {len(encodedimg)} images. \\nImages are taken from this directory: {path}')"
   ]
  },
  {
   "cell_type": "code",
   "execution_count": null,
   "metadata": {},
   "outputs": [
    {
     "name": "stdout",
     "output_type": "stream",
     "text": [
      "Your camera is working\n",
      "SARAVANAN\n",
      "(38, 118, 90, 66)\n",
      "SARAVANAN\n",
      "(4, 114, 66, 52)\n",
      "SUMITHRA\n",
      "(32, 128, 94, 66)\n",
      "SUMITHRA\n",
      "(46, 135, 108, 73)\n",
      "SUMITHRA\n",
      "(55, 129, 107, 78)\n",
      "SUMITHRA\n",
      "(55, 137, 120, 63)\n",
      "PRABAKARAN\n",
      "(26, 93, 62, 57)\n",
      "ARUN MOZHI\n",
      "(58, 73, 94, 37)\n",
      "YENU PRAJAYA\n",
      "(0, 60, 44, 8)\n",
      "YENU PRAJAYA\n",
      "(12, 55, 55, 12)\n",
      "SHIVANI\n",
      "(58, 65, 94, 29)\n",
      "ARUN MOZHI\n",
      "(66, 109, 102, 73)\n",
      "ARUN MOZHI\n",
      "(42, 93, 78, 57)\n",
      "YENU PRAJAYA\n",
      "(0, 93, 34, 57)\n",
      "PRABAKARAN\n",
      "(0, 83, 49, 31)\n",
      "ARUN MOZHI\n",
      "(7, 93, 50, 50)\n",
      "ARUN\n",
      "(0, 95, 49, 43)\n",
      "PRABAKARAN\n",
      "(0, 88, 41, 45)\n",
      "PRABAKARAN\n",
      "(10, 65, 46, 29)\n",
      "PRABAKARAN\n",
      "(18, 87, 80, 24)\n",
      "PRABAKARAN\n",
      "(14, 79, 88, 5)\n"
     ]
    }
   ],
   "source": [
    "capture = cv2.VideoCapture(0)\n",
    "if (capture.isOpened()== True):\n",
    "    print(\"Your camera is working\")\n",
    "else:\n",
    "    print(\"Your camera is not working\")  \n",
    "\n",
    "while True:\n",
    "    ret,frame = capture.read() \n",
    "    resized_img = cv2.resize(frame,(0,0),fx=0.25,fy=0.25)\n",
    "    final_img = cv2.cvtColor(resized_img,cv2.COLOR_BGR2RGB)\n",
    "    framecurface = face_recognition.face_locations(final_img)\n",
    "    encodecurface = face_recognition.face_encodings(final_img,framecurface)\n",
    "    \n",
    "    for encodeface,faceloc in zip(encodecurface,framecurface):\n",
    "        matches = face_recognition.compare_faces(encodedimg,encodeface)\n",
    "        facedist = face_recognition.face_distance(encodedimg,encodeface)  \n",
    "        matchindex = np.argmin(facedist)\n",
    "        \n",
    "        if matches[matchindex]:\n",
    "            name = classes[matchindex].upper()\n",
    "            print(name)\n",
    "            print(faceloc)\n",
    "            y1,x2,y2,x1 = faceloc\n",
    "            y1,x2,y2,x1 = y1*4,x2*4,y2*4,x1*4\n",
    "            cv2.rectangle(frame,(x1,y1),(x2,y2),(0,0,255),2)\n",
    "            cv2.rectangle(frame, (x1, y2), (x2, y2), (0, 255, 0), cv2.FILLED)\n",
    "            cv2.putText(frame,name,(x1+6,y2-6),cv2.FONT_HERSHEY_DUPLEX, 1.0, (0,255,0), 1)\n",
    "            cv2.imshow('name',frame)\n",
    "            cv2.waitKey(0)              "
   ]
  }
 ],
 "metadata": {
  "kernelspec": {
   "display_name": "Python 3",
   "language": "python",
   "name": "python3"
  },
  "language_info": {
   "codemirror_mode": {
    "name": "ipython",
    "version": 3
   },
   "file_extension": ".py",
   "mimetype": "text/x-python",
   "name": "python",
   "nbconvert_exporter": "python",
   "pygments_lexer": "ipython3",
   "version": "3.8.4"
  }
 },
 "nbformat": 4,
 "nbformat_minor": 4
}
